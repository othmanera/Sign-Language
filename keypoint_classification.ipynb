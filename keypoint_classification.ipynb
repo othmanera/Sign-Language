{
 "cells": [
  {
   "cell_type": "code",
   "execution_count": 1,
   "metadata": {},
   "outputs": [],
   "source": [
    "import csv\n",
    "\n",
    "import numpy as np\n",
    "import tensorflow as tf\n",
    "from sklearn.model_selection import train_test_split\n",
    "\n",
    "RANDOM_SEED = 42"
   ]
  },
  {
   "cell_type": "markdown",
   "metadata": {},
   "source": [
    "# 各パス指定"
   ]
  },
  {
   "cell_type": "code",
   "execution_count": 2,
   "metadata": {},
   "outputs": [],
   "source": [
    "dataset = 'model/keypoint_classifier/keypoint.csv'\n",
    "model_save_path = 'model/keypoint_classifier/keypoint_classifier.hdf5'"
   ]
  },
  {
   "cell_type": "markdown",
   "metadata": {},
   "source": [
    "# 分類数設定"
   ]
  },
  {
   "cell_type": "code",
   "execution_count": 3,
   "metadata": {},
   "outputs": [],
   "source": [
    "NUM_CLASSES = 14"
   ]
  },
  {
   "cell_type": "markdown",
   "metadata": {},
   "source": [
    "# 学習データ読み込み"
   ]
  },
  {
   "cell_type": "code",
   "execution_count": 4,
   "metadata": {},
   "outputs": [],
   "source": [
    "X_dataset = np.loadtxt(dataset, delimiter=',', dtype='float32', usecols=list(range(1, (21 * 2) + 1)))"
   ]
  },
  {
   "cell_type": "code",
   "execution_count": 5,
   "metadata": {},
   "outputs": [],
   "source": [
    "y_dataset = np.loadtxt(dataset, delimiter=',', dtype='int32', usecols=(0))"
   ]
  },
  {
   "cell_type": "code",
   "execution_count": 6,
   "metadata": {},
   "outputs": [],
   "source": [
    "X_train, X_test, y_train, y_test = train_test_split(X_dataset, y_dataset, train_size=0.75, random_state=RANDOM_SEED)"
   ]
  },
  {
   "cell_type": "markdown",
   "metadata": {},
   "source": [
    "# モデル構築"
   ]
  },
  {
   "cell_type": "code",
   "execution_count": 7,
   "metadata": {},
   "outputs": [],
   "source": [
    "model = tf.keras.models.Sequential([\n",
    "    tf.keras.layers.Input((21 * 2, )),\n",
    "    tf.keras.layers.Dropout(0.2),\n",
    "    tf.keras.layers.Dense(20, activation='relu'),\n",
    "    tf.keras.layers.Dropout(0.4),\n",
    "    tf.keras.layers.Dense(10, activation='relu'),\n",
    "    tf.keras.layers.Dense(NUM_CLASSES, activation='softmax')\n",
    "])"
   ]
  },
  {
   "cell_type": "code",
   "execution_count": 8,
   "metadata": {},
   "outputs": [
    {
     "name": "stdout",
     "output_type": "stream",
     "text": [
      "Model: \"sequential\"\n",
      "_________________________________________________________________\n",
      " Layer (type)                Output Shape              Param #   \n",
      "=================================================================\n",
      " dropout (Dropout)           (None, 42)                0         \n",
      "                                                                 \n",
      " dense (Dense)               (None, 20)                860       \n",
      "                                                                 \n",
      " dropout_1 (Dropout)         (None, 20)                0         \n",
      "                                                                 \n",
      " dense_1 (Dense)             (None, 10)                210       \n",
      "                                                                 \n",
      " dense_2 (Dense)             (None, 14)                154       \n",
      "                                                                 \n",
      "=================================================================\n",
      "Total params: 1,224\n",
      "Trainable params: 1,224\n",
      "Non-trainable params: 0\n",
      "_________________________________________________________________\n"
     ]
    }
   ],
   "source": [
    "model.summary()  # tf.keras.utils.plot_model(model, show_shapes=True)"
   ]
  },
  {
   "cell_type": "code",
   "execution_count": 9,
   "metadata": {},
   "outputs": [],
   "source": [
    "# モデルチェックポイントのコールバック\n",
    "cp_callback = tf.keras.callbacks.ModelCheckpoint(\n",
    "    model_save_path, verbose=1, save_weights_only=False)\n",
    "# 早期打ち切り用コールバック\n",
    "es_callback = tf.keras.callbacks.EarlyStopping(patience=20, verbose=1)"
   ]
  },
  {
   "cell_type": "code",
   "execution_count": 10,
   "metadata": {},
   "outputs": [],
   "source": [
    "# モデルコンパイル\n",
    "model.compile(\n",
    "    optimizer='adam',\n",
    "    loss='sparse_categorical_crossentropy',\n",
    "    metrics=['accuracy']\n",
    ")"
   ]
  },
  {
   "cell_type": "markdown",
   "metadata": {},
   "source": [
    "# モデル訓練"
   ]
  },
  {
   "cell_type": "code",
   "execution_count": 11,
   "metadata": {
    "scrolled": true
   },
   "outputs": [
    {
     "name": "stdout",
     "output_type": "stream",
     "text": [
      "Epoch 1/1000\n",
      "107/137 [======================>.......] - ETA: 0s - loss: 2.4377 - accuracy: 0.2328\n",
      "Epoch 1: saving model to model/keypoint_classifier\\keypoint_classifier.hdf5\n",
      "137/137 [==============================] - 1s 3ms/step - loss: 2.3852 - accuracy: 0.2478 - val_loss: 2.0045 - val_accuracy: 0.3772\n",
      "Epoch 2/1000\n",
      "118/137 [========================>.....] - ETA: 0s - loss: 2.0161 - accuracy: 0.3298\n",
      "Epoch 2: saving model to model/keypoint_classifier\\keypoint_classifier.hdf5\n",
      "137/137 [==============================] - 0s 2ms/step - loss: 2.0030 - accuracy: 0.3326 - val_loss: 1.6736 - val_accuracy: 0.3918\n",
      "Epoch 3/1000\n",
      "116/137 [========================>.....] - ETA: 0s - loss: 1.8034 - accuracy: 0.3722\n",
      "Epoch 3: saving model to model/keypoint_classifier\\keypoint_classifier.hdf5\n",
      "137/137 [==============================] - 0s 2ms/step - loss: 1.7913 - accuracy: 0.3777 - val_loss: 1.4212 - val_accuracy: 0.4788\n",
      "Epoch 4/1000\n",
      "106/137 [======================>.......] - ETA: 0s - loss: 1.6414 - accuracy: 0.4229\n",
      "Epoch 4: saving model to model/keypoint_classifier\\keypoint_classifier.hdf5\n",
      "137/137 [==============================] - 0s 2ms/step - loss: 1.6345 - accuracy: 0.4238 - val_loss: 1.2461 - val_accuracy: 0.6085\n",
      "Epoch 5/1000\n",
      "107/137 [======================>.......] - ETA: 0s - loss: 1.5253 - accuracy: 0.4496\n",
      "Epoch 5: saving model to model/keypoint_classifier\\keypoint_classifier.hdf5\n",
      "137/137 [==============================] - 0s 2ms/step - loss: 1.5177 - accuracy: 0.4510 - val_loss: 1.1250 - val_accuracy: 0.6391\n",
      "Epoch 6/1000\n",
      "112/137 [=======================>......] - ETA: 0s - loss: 1.4497 - accuracy: 0.4726\n",
      "Epoch 6: saving model to model/keypoint_classifier\\keypoint_classifier.hdf5\n",
      "137/137 [==============================] - 0s 2ms/step - loss: 1.4402 - accuracy: 0.4758 - val_loss: 1.0154 - val_accuracy: 0.7054\n",
      "Epoch 7/1000\n",
      "106/137 [======================>.......] - ETA: 0s - loss: 1.3848 - accuracy: 0.4934\n",
      "Epoch 7: saving model to model/keypoint_classifier\\keypoint_classifier.hdf5\n",
      "137/137 [==============================] - 0s 2ms/step - loss: 1.3819 - accuracy: 0.4951 - val_loss: 0.9463 - val_accuracy: 0.7496\n",
      "Epoch 8/1000\n",
      "107/137 [======================>.......] - ETA: 0s - loss: 1.3384 - accuracy: 0.5056\n",
      "Epoch 8: saving model to model/keypoint_classifier\\keypoint_classifier.hdf5\n",
      "137/137 [==============================] - 0s 2ms/step - loss: 1.3333 - accuracy: 0.5083 - val_loss: 0.8969 - val_accuracy: 0.7497\n",
      "Epoch 9/1000\n",
      "108/137 [======================>.......] - ETA: 0s - loss: 1.2972 - accuracy: 0.5223\n",
      "Epoch 9: saving model to model/keypoint_classifier\\keypoint_classifier.hdf5\n",
      "137/137 [==============================] - 0s 2ms/step - loss: 1.3028 - accuracy: 0.5211 - val_loss: 0.8641 - val_accuracy: 0.7473\n",
      "Epoch 10/1000\n",
      "105/137 [=====================>........] - ETA: 0s - loss: 1.2767 - accuracy: 0.5275\n",
      "Epoch 10: saving model to model/keypoint_classifier\\keypoint_classifier.hdf5\n",
      "137/137 [==============================] - 0s 2ms/step - loss: 1.2672 - accuracy: 0.5297 - val_loss: 0.8122 - val_accuracy: 0.7991\n",
      "Epoch 11/1000\n",
      "104/137 [=====================>........] - ETA: 0s - loss: 1.2359 - accuracy: 0.5437\n",
      "Epoch 11: saving model to model/keypoint_classifier\\keypoint_classifier.hdf5\n",
      "137/137 [==============================] - 0s 2ms/step - loss: 1.2239 - accuracy: 0.5493 - val_loss: 0.7616 - val_accuracy: 0.8093\n",
      "Epoch 12/1000\n",
      "111/137 [=======================>......] - ETA: 0s - loss: 1.2058 - accuracy: 0.5550\n",
      "Epoch 12: saving model to model/keypoint_classifier\\keypoint_classifier.hdf5\n",
      "137/137 [==============================] - 0s 2ms/step - loss: 1.2037 - accuracy: 0.5567 - val_loss: 0.7470 - val_accuracy: 0.8029\n",
      "Epoch 13/1000\n",
      "115/137 [========================>.....] - ETA: 0s - loss: 1.1842 - accuracy: 0.5626\n",
      "Epoch 13: saving model to model/keypoint_classifier\\keypoint_classifier.hdf5\n",
      "137/137 [==============================] - 0s 2ms/step - loss: 1.1826 - accuracy: 0.5636 - val_loss: 0.7113 - val_accuracy: 0.8136\n",
      "Epoch 14/1000\n",
      "107/137 [======================>.......] - ETA: 0s - loss: 1.1550 - accuracy: 0.5702\n",
      "Epoch 14: saving model to model/keypoint_classifier\\keypoint_classifier.hdf5\n",
      "137/137 [==============================] - 0s 2ms/step - loss: 1.1444 - accuracy: 0.5732 - val_loss: 0.6889 - val_accuracy: 0.8153\n",
      "Epoch 15/1000\n",
      "116/137 [========================>.....] - ETA: 0s - loss: 1.1274 - accuracy: 0.5790\n",
      "Epoch 15: saving model to model/keypoint_classifier\\keypoint_classifier.hdf5\n",
      "137/137 [==============================] - 0s 2ms/step - loss: 1.1205 - accuracy: 0.5833 - val_loss: 0.6579 - val_accuracy: 0.8268\n",
      "Epoch 16/1000\n",
      "111/137 [=======================>......] - ETA: 0s - loss: 1.1141 - accuracy: 0.5807\n",
      "Epoch 16: saving model to model/keypoint_classifier\\keypoint_classifier.hdf5\n",
      "137/137 [==============================] - 0s 2ms/step - loss: 1.1101 - accuracy: 0.5835 - val_loss: 0.6467 - val_accuracy: 0.8268\n",
      "Epoch 17/1000\n",
      "109/137 [======================>.......] - ETA: 0s - loss: 1.0988 - accuracy: 0.5912\n",
      "Epoch 17: saving model to model/keypoint_classifier\\keypoint_classifier.hdf5\n",
      "137/137 [==============================] - 0s 2ms/step - loss: 1.0946 - accuracy: 0.5929 - val_loss: 0.6303 - val_accuracy: 0.8270\n",
      "Epoch 18/1000\n",
      "115/137 [========================>.....] - ETA: 0s - loss: 1.0562 - accuracy: 0.6005\n",
      "Epoch 18: saving model to model/keypoint_classifier\\keypoint_classifier.hdf5\n",
      "137/137 [==============================] - 0s 2ms/step - loss: 1.0552 - accuracy: 0.6020 - val_loss: 0.5907 - val_accuracy: 0.8922\n",
      "Epoch 19/1000\n",
      "112/137 [=======================>......] - ETA: 0s - loss: 1.0514 - accuracy: 0.6080\n",
      "Epoch 19: saving model to model/keypoint_classifier\\keypoint_classifier.hdf5\n",
      "137/137 [==============================] - 0s 2ms/step - loss: 1.0528 - accuracy: 0.6068 - val_loss: 0.5984 - val_accuracy: 0.8536\n",
      "Epoch 20/1000\n",
      "110/137 [=======================>......] - ETA: 0s - loss: 1.0314 - accuracy: 0.6151\n",
      "Epoch 20: saving model to model/keypoint_classifier\\keypoint_classifier.hdf5\n",
      "137/137 [==============================] - 0s 2ms/step - loss: 1.0294 - accuracy: 0.6141 - val_loss: 0.5791 - val_accuracy: 0.8574\n",
      "Epoch 21/1000\n",
      "112/137 [=======================>......] - ETA: 0s - loss: 1.0184 - accuracy: 0.6200\n",
      "Epoch 21: saving model to model/keypoint_classifier\\keypoint_classifier.hdf5\n",
      "137/137 [==============================] - 0s 2ms/step - loss: 1.0118 - accuracy: 0.6214 - val_loss: 0.5662 - val_accuracy: 0.8617\n",
      "Epoch 22/1000\n",
      "136/137 [============================>.] - ETA: 0s - loss: 1.0020 - accuracy: 0.6248\n",
      "Epoch 22: saving model to model/keypoint_classifier\\keypoint_classifier.hdf5\n",
      "137/137 [==============================] - 0s 2ms/step - loss: 1.0022 - accuracy: 0.6248 - val_loss: 0.5440 - val_accuracy: 0.9037\n",
      "Epoch 23/1000\n",
      "113/137 [=======================>......] - ETA: 0s - loss: 0.9940 - accuracy: 0.6294\n",
      "Epoch 23: saving model to model/keypoint_classifier\\keypoint_classifier.hdf5\n",
      "137/137 [==============================] - 0s 2ms/step - loss: 0.9988 - accuracy: 0.6267 - val_loss: 0.5605 - val_accuracy: 0.9312\n",
      "Epoch 24/1000\n",
      "110/137 [=======================>......] - ETA: 0s - loss: 0.9816 - accuracy: 0.6366\n",
      "Epoch 24: saving model to model/keypoint_classifier\\keypoint_classifier.hdf5\n",
      "137/137 [==============================] - 0s 2ms/step - loss: 0.9816 - accuracy: 0.6361 - val_loss: 0.5209 - val_accuracy: 0.8901\n",
      "Epoch 25/1000\n",
      "109/137 [======================>.......] - ETA: 0s - loss: 0.9842 - accuracy: 0.6383\n",
      "Epoch 25: saving model to model/keypoint_classifier\\keypoint_classifier.hdf5\n",
      "137/137 [==============================] - 0s 2ms/step - loss: 0.9874 - accuracy: 0.6374 - val_loss: 0.5365 - val_accuracy: 0.8994\n",
      "Epoch 26/1000\n",
      "111/137 [=======================>......] - ETA: 0s - loss: 0.9750 - accuracy: 0.6424\n",
      "Epoch 26: saving model to model/keypoint_classifier\\keypoint_classifier.hdf5\n",
      "137/137 [==============================] - 0s 2ms/step - loss: 0.9713 - accuracy: 0.6442 - val_loss: 0.5085 - val_accuracy: 0.9009\n",
      "Epoch 27/1000\n",
      "110/137 [=======================>......] - ETA: 0s - loss: 0.9703 - accuracy: 0.6341\n",
      "Epoch 27: saving model to model/keypoint_classifier\\keypoint_classifier.hdf5\n",
      "137/137 [==============================] - 0s 2ms/step - loss: 0.9647 - accuracy: 0.6388 - val_loss: 0.5102 - val_accuracy: 0.9143\n"
     ]
    },
    {
     "name": "stdout",
     "output_type": "stream",
     "text": [
      "Epoch 28/1000\n",
      "113/137 [=======================>......] - ETA: 0s - loss: 0.9594 - accuracy: 0.6434\n",
      "Epoch 28: saving model to model/keypoint_classifier\\keypoint_classifier.hdf5\n",
      "137/137 [==============================] - 0s 2ms/step - loss: 0.9616 - accuracy: 0.6462 - val_loss: 0.4950 - val_accuracy: 0.9020\n",
      "Epoch 29/1000\n",
      "118/137 [========================>.....] - ETA: 0s - loss: 0.9543 - accuracy: 0.6433\n",
      "Epoch 29: saving model to model/keypoint_classifier\\keypoint_classifier.hdf5\n",
      "137/137 [==============================] - 0s 2ms/step - loss: 0.9545 - accuracy: 0.6437 - val_loss: 0.4995 - val_accuracy: 0.9195\n",
      "Epoch 30/1000\n",
      "111/137 [=======================>......] - ETA: 0s - loss: 0.9427 - accuracy: 0.6517\n",
      "Epoch 30: saving model to model/keypoint_classifier\\keypoint_classifier.hdf5\n",
      "137/137 [==============================] - 0s 2ms/step - loss: 0.9415 - accuracy: 0.6533 - val_loss: 0.4899 - val_accuracy: 0.9231\n",
      "Epoch 31/1000\n",
      "115/137 [========================>.....] - ETA: 0s - loss: 0.9475 - accuracy: 0.6515\n",
      "Epoch 31: saving model to model/keypoint_classifier\\keypoint_classifier.hdf5\n",
      "137/137 [==============================] - 0s 2ms/step - loss: 0.9418 - accuracy: 0.6533 - val_loss: 0.4868 - val_accuracy: 0.9121\n",
      "Epoch 32/1000\n",
      "111/137 [=======================>......] - ETA: 0s - loss: 0.9355 - accuracy: 0.6579\n",
      "Epoch 32: saving model to model/keypoint_classifier\\keypoint_classifier.hdf5\n",
      "137/137 [==============================] - 0s 2ms/step - loss: 0.9338 - accuracy: 0.6569 - val_loss: 0.4740 - val_accuracy: 0.9635\n",
      "Epoch 33/1000\n",
      "112/137 [=======================>......] - ETA: 0s - loss: 0.9305 - accuracy: 0.6583\n",
      "Epoch 33: saving model to model/keypoint_classifier\\keypoint_classifier.hdf5\n",
      "137/137 [==============================] - 0s 2ms/step - loss: 0.9344 - accuracy: 0.6570 - val_loss: 0.4818 - val_accuracy: 0.9518\n",
      "Epoch 34/1000\n",
      "108/137 [======================>.......] - ETA: 0s - loss: 0.9182 - accuracy: 0.6581\n",
      "Epoch 34: saving model to model/keypoint_classifier\\keypoint_classifier.hdf5\n",
      "137/137 [==============================] - 0s 2ms/step - loss: 0.9158 - accuracy: 0.6601 - val_loss: 0.4733 - val_accuracy: 0.9400\n",
      "Epoch 35/1000\n",
      "102/137 [=====================>........] - ETA: 0s - loss: 0.9185 - accuracy: 0.6656\n",
      "Epoch 35: saving model to model/keypoint_classifier\\keypoint_classifier.hdf5\n",
      "137/137 [==============================] - 0s 2ms/step - loss: 0.9182 - accuracy: 0.6672 - val_loss: 0.4616 - val_accuracy: 0.9567\n",
      "Epoch 36/1000\n",
      "112/137 [=======================>......] - ETA: 0s - loss: 0.9109 - accuracy: 0.6683\n",
      "Epoch 36: saving model to model/keypoint_classifier\\keypoint_classifier.hdf5\n",
      "137/137 [==============================] - 0s 2ms/step - loss: 0.9053 - accuracy: 0.6704 - val_loss: 0.4562 - val_accuracy: 0.9733\n",
      "Epoch 37/1000\n",
      "113/137 [=======================>......] - ETA: 0s - loss: 0.9118 - accuracy: 0.6734\n",
      "Epoch 37: saving model to model/keypoint_classifier\\keypoint_classifier.hdf5\n",
      "137/137 [==============================] - 0s 2ms/step - loss: 0.9113 - accuracy: 0.6738 - val_loss: 0.4545 - val_accuracy: 0.9589\n",
      "Epoch 38/1000\n",
      "113/137 [=======================>......] - ETA: 0s - loss: 0.9048 - accuracy: 0.6745\n",
      "Epoch 38: saving model to model/keypoint_classifier\\keypoint_classifier.hdf5\n",
      "137/137 [==============================] - 0s 2ms/step - loss: 0.9058 - accuracy: 0.6746 - val_loss: 0.4592 - val_accuracy: 0.9413\n",
      "Epoch 39/1000\n",
      "114/137 [=======================>......] - ETA: 0s - loss: 0.8996 - accuracy: 0.6751\n",
      "Epoch 39: saving model to model/keypoint_classifier\\keypoint_classifier.hdf5\n",
      "137/137 [==============================] - 0s 2ms/step - loss: 0.9016 - accuracy: 0.6755 - val_loss: 0.4498 - val_accuracy: 0.9708\n",
      "Epoch 40/1000\n",
      "116/137 [========================>.....] - ETA: 0s - loss: 0.8978 - accuracy: 0.6781\n",
      "Epoch 40: saving model to model/keypoint_classifier\\keypoint_classifier.hdf5\n",
      "137/137 [==============================] - 0s 2ms/step - loss: 0.9006 - accuracy: 0.6767 - val_loss: 0.4478 - val_accuracy: 0.9737\n",
      "Epoch 41/1000\n",
      "115/137 [========================>.....] - ETA: 0s - loss: 0.8859 - accuracy: 0.6815\n",
      "Epoch 41: saving model to model/keypoint_classifier\\keypoint_classifier.hdf5\n",
      "137/137 [==============================] - 0s 2ms/step - loss: 0.8904 - accuracy: 0.6814 - val_loss: 0.4544 - val_accuracy: 0.9503\n",
      "Epoch 42/1000\n",
      "107/137 [======================>.......] - ETA: 0s - loss: 0.9006 - accuracy: 0.6819\n",
      "Epoch 42: saving model to model/keypoint_classifier\\keypoint_classifier.hdf5\n",
      "137/137 [==============================] - 0s 2ms/step - loss: 0.9001 - accuracy: 0.6814 - val_loss: 0.4332 - val_accuracy: 0.9501\n",
      "Epoch 43/1000\n",
      "107/137 [======================>.......] - ETA: 0s - loss: 0.8760 - accuracy: 0.6909\n",
      "Epoch 43: saving model to model/keypoint_classifier\\keypoint_classifier.hdf5\n",
      "137/137 [==============================] - 0s 2ms/step - loss: 0.8812 - accuracy: 0.6887 - val_loss: 0.4218 - val_accuracy: 0.9735\n",
      "Epoch 44/1000\n",
      "107/137 [======================>.......] - ETA: 0s - loss: 0.8810 - accuracy: 0.6882\n",
      "Epoch 44: saving model to model/keypoint_classifier\\keypoint_classifier.hdf5\n",
      "137/137 [==============================] - 0s 2ms/step - loss: 0.8801 - accuracy: 0.6873 - val_loss: 0.4356 - val_accuracy: 0.9477\n",
      "Epoch 45/1000\n",
      "114/137 [=======================>......] - ETA: 0s - loss: 0.8764 - accuracy: 0.6874\n",
      "Epoch 45: saving model to model/keypoint_classifier\\keypoint_classifier.hdf5\n",
      "137/137 [==============================] - 0s 2ms/step - loss: 0.8748 - accuracy: 0.6874 - val_loss: 0.3965 - val_accuracy: 0.9778\n",
      "Epoch 46/1000\n",
      "108/137 [======================>.......] - ETA: 0s - loss: 0.8809 - accuracy: 0.6898\n",
      "Epoch 46: saving model to model/keypoint_classifier\\keypoint_classifier.hdf5\n",
      "137/137 [==============================] - 0s 2ms/step - loss: 0.8853 - accuracy: 0.6871 - val_loss: 0.4207 - val_accuracy: 0.9668\n",
      "Epoch 47/1000\n",
      "106/137 [======================>.......] - ETA: 0s - loss: 0.8758 - accuracy: 0.6828\n",
      "Epoch 47: saving model to model/keypoint_classifier\\keypoint_classifier.hdf5\n",
      "137/137 [==============================] - 0s 2ms/step - loss: 0.8821 - accuracy: 0.6814 - val_loss: 0.4019 - val_accuracy: 0.9694\n",
      "Epoch 48/1000\n",
      "115/137 [========================>.....] - ETA: 0s - loss: 0.8550 - accuracy: 0.6969\n",
      "Epoch 48: saving model to model/keypoint_classifier\\keypoint_classifier.hdf5\n",
      "137/137 [==============================] - 0s 2ms/step - loss: 0.8623 - accuracy: 0.6934 - val_loss: 0.4259 - val_accuracy: 0.9670\n",
      "Epoch 49/1000\n",
      "111/137 [=======================>......] - ETA: 0s - loss: 0.8544 - accuracy: 0.6977\n",
      "Epoch 49: saving model to model/keypoint_classifier\\keypoint_classifier.hdf5\n",
      "137/137 [==============================] - 0s 2ms/step - loss: 0.8565 - accuracy: 0.6961 - val_loss: 0.4064 - val_accuracy: 0.9690\n",
      "Epoch 50/1000\n",
      "117/137 [========================>.....] - ETA: 0s - loss: 0.8618 - accuracy: 0.6890\n",
      "Epoch 50: saving model to model/keypoint_classifier\\keypoint_classifier.hdf5\n",
      "137/137 [==============================] - 0s 2ms/step - loss: 0.8661 - accuracy: 0.6899 - val_loss: 0.4339 - val_accuracy: 0.9646\n",
      "Epoch 51/1000\n",
      "110/137 [=======================>......] - ETA: 0s - loss: 0.8624 - accuracy: 0.6957\n",
      "Epoch 51: saving model to model/keypoint_classifier\\keypoint_classifier.hdf5\n",
      "137/137 [==============================] - 0s 2ms/step - loss: 0.8701 - accuracy: 0.6942 - val_loss: 0.4386 - val_accuracy: 0.9465\n",
      "Epoch 52/1000\n",
      "112/137 [=======================>......] - ETA: 0s - loss: 0.8545 - accuracy: 0.6976\n",
      "Epoch 52: saving model to model/keypoint_classifier\\keypoint_classifier.hdf5\n",
      "137/137 [==============================] - 0s 2ms/step - loss: 0.8568 - accuracy: 0.6974 - val_loss: 0.3790 - val_accuracy: 0.9757\n",
      "Epoch 53/1000\n",
      "110/137 [=======================>......] - ETA: 0s - loss: 0.8501 - accuracy: 0.6960\n",
      "Epoch 53: saving model to model/keypoint_classifier\\keypoint_classifier.hdf5\n",
      "137/137 [==============================] - 0s 2ms/step - loss: 0.8454 - accuracy: 0.6971 - val_loss: 0.3999 - val_accuracy: 0.9616\n",
      "Epoch 54/1000\n",
      "113/137 [=======================>......] - ETA: 0s - loss: 0.8701 - accuracy: 0.6935\n",
      "Epoch 54: saving model to model/keypoint_classifier\\keypoint_classifier.hdf5\n",
      "137/137 [==============================] - 0s 2ms/step - loss: 0.8706 - accuracy: 0.6908 - val_loss: 0.4286 - val_accuracy: 0.9536\n"
     ]
    },
    {
     "name": "stdout",
     "output_type": "stream",
     "text": [
      "Epoch 55/1000\n",
      "104/137 [=====================>........] - ETA: 0s - loss: 0.8640 - accuracy: 0.6974\n",
      "Epoch 55: saving model to model/keypoint_classifier\\keypoint_classifier.hdf5\n",
      "137/137 [==============================] - 0s 2ms/step - loss: 0.8579 - accuracy: 0.6979 - val_loss: 0.3881 - val_accuracy: 0.9689\n",
      "Epoch 56/1000\n",
      "116/137 [========================>.....] - ETA: 0s - loss: 0.8607 - accuracy: 0.6997\n",
      "Epoch 56: saving model to model/keypoint_classifier\\keypoint_classifier.hdf5\n",
      "137/137 [==============================] - 0s 2ms/step - loss: 0.8597 - accuracy: 0.7002 - val_loss: 0.4035 - val_accuracy: 0.9756\n",
      "Epoch 57/1000\n",
      "116/137 [========================>.....] - ETA: 0s - loss: 0.8464 - accuracy: 0.7041\n",
      "Epoch 57: saving model to model/keypoint_classifier\\keypoint_classifier.hdf5\n",
      "137/137 [==============================] - 0s 2ms/step - loss: 0.8452 - accuracy: 0.7045 - val_loss: 0.3879 - val_accuracy: 0.9708\n",
      "Epoch 58/1000\n",
      "118/137 [========================>.....] - ETA: 0s - loss: 0.8383 - accuracy: 0.7011\n",
      "Epoch 58: saving model to model/keypoint_classifier\\keypoint_classifier.hdf5\n",
      "137/137 [==============================] - 0s 2ms/step - loss: 0.8386 - accuracy: 0.7018 - val_loss: 0.4024 - val_accuracy: 0.9733\n",
      "Epoch 59/1000\n",
      "113/137 [=======================>......] - ETA: 0s - loss: 0.8338 - accuracy: 0.7066\n",
      "Epoch 59: saving model to model/keypoint_classifier\\keypoint_classifier.hdf5\n",
      "137/137 [==============================] - 0s 2ms/step - loss: 0.8397 - accuracy: 0.7055 - val_loss: 0.4003 - val_accuracy: 0.9696\n",
      "Epoch 60/1000\n",
      "111/137 [=======================>......] - ETA: 0s - loss: 0.8320 - accuracy: 0.7066\n",
      "Epoch 60: saving model to model/keypoint_classifier\\keypoint_classifier.hdf5\n",
      "137/137 [==============================] - 0s 2ms/step - loss: 0.8290 - accuracy: 0.7080 - val_loss: 0.3991 - val_accuracy: 0.9768\n",
      "Epoch 61/1000\n",
      "110/137 [=======================>......] - ETA: 0s - loss: 0.8129 - accuracy: 0.7131\n",
      "Epoch 61: saving model to model/keypoint_classifier\\keypoint_classifier.hdf5\n",
      "137/137 [==============================] - 0s 2ms/step - loss: 0.8235 - accuracy: 0.7102 - val_loss: 0.4090 - val_accuracy: 0.9644\n",
      "Epoch 62/1000\n",
      "114/137 [=======================>......] - ETA: 0s - loss: 0.8188 - accuracy: 0.7119\n",
      "Epoch 62: saving model to model/keypoint_classifier\\keypoint_classifier.hdf5\n",
      "137/137 [==============================] - 0s 2ms/step - loss: 0.8195 - accuracy: 0.7125 - val_loss: 0.4344 - val_accuracy: 0.9653\n",
      "Epoch 63/1000\n",
      "109/137 [======================>.......] - ETA: 0s - loss: 0.8130 - accuracy: 0.7167\n",
      "Epoch 63: saving model to model/keypoint_classifier\\keypoint_classifier.hdf5\n",
      "137/137 [==============================] - 0s 2ms/step - loss: 0.8198 - accuracy: 0.7129 - val_loss: 0.4163 - val_accuracy: 0.9756\n",
      "Epoch 64/1000\n",
      "112/137 [=======================>......] - ETA: 0s - loss: 0.8157 - accuracy: 0.7132\n",
      "Epoch 64: saving model to model/keypoint_classifier\\keypoint_classifier.hdf5\n",
      "137/137 [==============================] - 0s 2ms/step - loss: 0.8132 - accuracy: 0.7148 - val_loss: 0.3807 - val_accuracy: 0.9880\n",
      "Epoch 65/1000\n",
      "109/137 [======================>.......] - ETA: 0s - loss: 0.8214 - accuracy: 0.7104\n",
      "Epoch 65: saving model to model/keypoint_classifier\\keypoint_classifier.hdf5\n",
      "137/137 [==============================] - 0s 2ms/step - loss: 0.8188 - accuracy: 0.7106 - val_loss: 0.3627 - val_accuracy: 0.9840\n",
      "Epoch 66/1000\n",
      "107/137 [======================>.......] - ETA: 0s - loss: 0.8378 - accuracy: 0.7075\n",
      "Epoch 66: saving model to model/keypoint_classifier\\keypoint_classifier.hdf5\n",
      "137/137 [==============================] - 0s 2ms/step - loss: 0.8293 - accuracy: 0.7098 - val_loss: 0.3750 - val_accuracy: 0.9757\n",
      "Epoch 67/1000\n",
      "113/137 [=======================>......] - ETA: 0s - loss: 0.8433 - accuracy: 0.7089\n",
      "Epoch 67: saving model to model/keypoint_classifier\\keypoint_classifier.hdf5\n",
      "137/137 [==============================] - 0s 2ms/step - loss: 0.8353 - accuracy: 0.7115 - val_loss: 0.3866 - val_accuracy: 0.9914\n",
      "Epoch 68/1000\n",
      "112/137 [=======================>......] - ETA: 0s - loss: 0.8226 - accuracy: 0.7121\n",
      "Epoch 68: saving model to model/keypoint_classifier\\keypoint_classifier.hdf5\n",
      "137/137 [==============================] - 0s 2ms/step - loss: 0.8228 - accuracy: 0.7111 - val_loss: 0.4032 - val_accuracy: 0.9904\n",
      "Epoch 69/1000\n",
      "109/137 [======================>.......] - ETA: 0s - loss: 0.8229 - accuracy: 0.7088\n",
      "Epoch 69: saving model to model/keypoint_classifier\\keypoint_classifier.hdf5\n",
      "137/137 [==============================] - 0s 2ms/step - loss: 0.8222 - accuracy: 0.7096 - val_loss: 0.4021 - val_accuracy: 0.9615\n",
      "Epoch 70/1000\n",
      "113/137 [=======================>......] - ETA: 0s - loss: 0.8060 - accuracy: 0.7209\n",
      "Epoch 70: saving model to model/keypoint_classifier\\keypoint_classifier.hdf5\n",
      "137/137 [==============================] - 0s 2ms/step - loss: 0.8071 - accuracy: 0.7204 - val_loss: 0.4101 - val_accuracy: 0.9735\n",
      "Epoch 71/1000\n",
      "112/137 [=======================>......] - ETA: 0s - loss: 0.8217 - accuracy: 0.7137\n",
      "Epoch 71: saving model to model/keypoint_classifier\\keypoint_classifier.hdf5\n",
      "137/137 [==============================] - 0s 2ms/step - loss: 0.8199 - accuracy: 0.7149 - val_loss: 0.3811 - val_accuracy: 0.9685\n",
      "Epoch 72/1000\n",
      "104/137 [=====================>........] - ETA: 0s - loss: 0.8068 - accuracy: 0.7124\n",
      "Epoch 72: saving model to model/keypoint_classifier\\keypoint_classifier.hdf5\n",
      "137/137 [==============================] - 0s 2ms/step - loss: 0.8123 - accuracy: 0.7125 - val_loss: 0.3881 - val_accuracy: 0.9733\n",
      "Epoch 73/1000\n",
      "110/137 [=======================>......] - ETA: 0s - loss: 0.7969 - accuracy: 0.7225\n",
      "Epoch 73: saving model to model/keypoint_classifier\\keypoint_classifier.hdf5\n",
      "137/137 [==============================] - 0s 2ms/step - loss: 0.7965 - accuracy: 0.7210 - val_loss: 0.4076 - val_accuracy: 0.9778\n",
      "Epoch 74/1000\n",
      "117/137 [========================>.....] - ETA: 0s - loss: 0.7884 - accuracy: 0.7222\n",
      "Epoch 74: saving model to model/keypoint_classifier\\keypoint_classifier.hdf5\n",
      "137/137 [==============================] - 0s 2ms/step - loss: 0.7944 - accuracy: 0.7212 - val_loss: 0.4173 - val_accuracy: 0.9718\n",
      "Epoch 75/1000\n",
      "115/137 [========================>.....] - ETA: 0s - loss: 0.7969 - accuracy: 0.7225\n",
      "Epoch 75: saving model to model/keypoint_classifier\\keypoint_classifier.hdf5\n",
      "137/137 [==============================] - 0s 2ms/step - loss: 0.7908 - accuracy: 0.7244 - val_loss: 0.3865 - val_accuracy: 0.9782\n",
      "Epoch 76/1000\n",
      "110/137 [=======================>......] - ETA: 0s - loss: 0.7911 - accuracy: 0.7165\n",
      "Epoch 76: saving model to model/keypoint_classifier\\keypoint_classifier.hdf5\n",
      "137/137 [==============================] - 0s 2ms/step - loss: 0.8007 - accuracy: 0.7184 - val_loss: 0.4325 - val_accuracy: 0.9690\n",
      "Epoch 77/1000\n",
      "113/137 [=======================>......] - ETA: 0s - loss: 0.7826 - accuracy: 0.7284\n",
      "Epoch 77: saving model to model/keypoint_classifier\\keypoint_classifier.hdf5\n",
      "137/137 [==============================] - 0s 2ms/step - loss: 0.7802 - accuracy: 0.7285 - val_loss: 0.3982 - val_accuracy: 0.9754\n",
      "Epoch 78/1000\n",
      "110/137 [=======================>......] - ETA: 0s - loss: 0.7956 - accuracy: 0.7224\n",
      "Epoch 78: saving model to model/keypoint_classifier\\keypoint_classifier.hdf5\n",
      "137/137 [==============================] - 0s 2ms/step - loss: 0.7970 - accuracy: 0.7201 - val_loss: 0.4017 - val_accuracy: 0.9570\n",
      "Epoch 79/1000\n",
      "108/137 [======================>.......] - ETA: 0s - loss: 0.7883 - accuracy: 0.7257\n",
      "Epoch 79: saving model to model/keypoint_classifier\\keypoint_classifier.hdf5\n",
      "137/137 [==============================] - 0s 2ms/step - loss: 0.7917 - accuracy: 0.7237 - val_loss: 0.4008 - val_accuracy: 0.9403\n",
      "Epoch 80/1000\n",
      "109/137 [======================>.......] - ETA: 0s - loss: 0.7844 - accuracy: 0.7281\n",
      "Epoch 80: saving model to model/keypoint_classifier\\keypoint_classifier.hdf5\n",
      "137/137 [==============================] - 0s 2ms/step - loss: 0.7883 - accuracy: 0.7267 - val_loss: 0.4462 - val_accuracy: 0.9647\n",
      "Epoch 81/1000\n",
      "106/137 [======================>.......] - ETA: 0s - loss: 0.7854 - accuracy: 0.7227\n",
      "Epoch 81: saving model to model/keypoint_classifier\\keypoint_classifier.hdf5\n",
      "137/137 [==============================] - 0s 2ms/step - loss: 0.7857 - accuracy: 0.7251 - val_loss: 0.4074 - val_accuracy: 0.9706\n"
     ]
    },
    {
     "name": "stdout",
     "output_type": "stream",
     "text": [
      "Epoch 82/1000\n",
      "117/137 [========================>.....] - ETA: 0s - loss: 0.7793 - accuracy: 0.7284\n",
      "Epoch 82: saving model to model/keypoint_classifier\\keypoint_classifier.hdf5\n",
      "137/137 [==============================] - 0s 2ms/step - loss: 0.7750 - accuracy: 0.7289 - val_loss: 0.4001 - val_accuracy: 0.9630\n",
      "Epoch 83/1000\n",
      "114/137 [=======================>......] - ETA: 0s - loss: 0.7698 - accuracy: 0.7317\n",
      "Epoch 83: saving model to model/keypoint_classifier\\keypoint_classifier.hdf5\n",
      "137/137 [==============================] - 0s 2ms/step - loss: 0.7698 - accuracy: 0.7322 - val_loss: 0.3784 - val_accuracy: 0.9757\n",
      "Epoch 84/1000\n",
      "121/137 [=========================>....] - ETA: 0s - loss: 0.7645 - accuracy: 0.7322\n",
      "Epoch 84: saving model to model/keypoint_classifier\\keypoint_classifier.hdf5\n",
      "137/137 [==============================] - 0s 2ms/step - loss: 0.7622 - accuracy: 0.7336 - val_loss: 0.4376 - val_accuracy: 0.9393\n",
      "Epoch 85/1000\n",
      "116/137 [========================>.....] - ETA: 0s - loss: 0.7414 - accuracy: 0.7394\n",
      "Epoch 85: saving model to model/keypoint_classifier\\keypoint_classifier.hdf5\n",
      "137/137 [==============================] - 0s 2ms/step - loss: 0.7451 - accuracy: 0.7400 - val_loss: 0.3923 - val_accuracy: 0.9656\n",
      "Epoch 85: early stopping\n"
     ]
    },
    {
     "data": {
      "text/plain": [
       "<keras.callbacks.History at 0x2b16429a7d0>"
      ]
     },
     "execution_count": 11,
     "metadata": {},
     "output_type": "execute_result"
    }
   ],
   "source": [
    "model.fit(\n",
    "    X_train,\n",
    "    y_train,\n",
    "    epochs=1000,\n",
    "    batch_size=128,\n",
    "    validation_data=(X_test, y_test),\n",
    "    callbacks=[cp_callback, es_callback]\n",
    ")"
   ]
  },
  {
   "cell_type": "code",
   "execution_count": 12,
   "metadata": {},
   "outputs": [
    {
     "name": "stdout",
     "output_type": "stream",
     "text": [
      "46/46 [==============================] - 0s 956us/step - loss: 0.3923 - accuracy: 0.9656\n"
     ]
    }
   ],
   "source": [
    "# モデル評価\n",
    "val_loss, val_acc = model.evaluate(X_test, y_test, batch_size=128)"
   ]
  },
  {
   "cell_type": "code",
   "execution_count": 13,
   "metadata": {},
   "outputs": [],
   "source": [
    "# 保存したモデルのロード\n",
    "model = tf.keras.models.load_model(model_save_path)"
   ]
  },
  {
   "cell_type": "code",
   "execution_count": 14,
   "metadata": {},
   "outputs": [
    {
     "name": "stdout",
     "output_type": "stream",
     "text": [
      "1/1 [==============================] - 0s 57ms/step\n",
      "[3.7112065e-02 5.6873821e-02 2.9552651e-03 1.3641655e-03 1.5875350e-01\n",
      " 3.2347616e-02 1.3248621e-04 2.2015426e-01 4.8144633e-01 2.7941083e-09\n",
      " 6.5967578e-07 2.2671837e-05 2.7160780e-09 8.8370992e-03]\n",
      "8\n"
     ]
    }
   ],
   "source": [
    "# 推論テスト\n",
    "predict_result = model.predict(np.array([X_test[0]]))\n",
    "print(np.squeeze(predict_result))\n",
    "print(np.argmax(np.squeeze(predict_result)))"
   ]
  },
  {
   "cell_type": "markdown",
   "metadata": {},
   "source": [
    "# 混同行列"
   ]
  },
  {
   "cell_type": "code",
   "execution_count": 15,
   "metadata": {
    "scrolled": true
   },
   "outputs": [
    {
     "name": "stdout",
     "output_type": "stream",
     "text": [
      "182/182 [==============================] - 0s 710us/step\n"
     ]
    },
    {
     "data": {
      "image/png": "[encoded data removed]",
      "text/plain": [
       "<Figure size 504x432 with 2 Axes>"
      ]
     },
     "metadata": {
      "needs_background": "light"
     },
     "output_type": "display_data"
    },
    {
     "name": "stdout",
     "output_type": "stream",
     "text": [
      "Classification Report\n",
      "              precision    recall  f1-score   support\n",
      "\n",
      "           0       0.98      1.00      0.99       296\n",
      "           1       1.00      0.99      1.00      1331\n",
      "           2       0.99      0.82      0.89       644\n",
      "           3       0.99      0.97      0.98       117\n",
      "           4       0.98      1.00      0.99       500\n",
      "           5       1.00      0.99      1.00       540\n",
      "           6       1.00      0.99      0.99       371\n",
      "           7       1.00      1.00      1.00       439\n",
      "           8       1.00      0.97      0.99       434\n",
      "           9       0.90      1.00      0.95       317\n",
      "          10       0.97      1.00      0.99       173\n",
      "          11       0.99      0.95      0.97       190\n",
      "          12       0.95      0.83      0.89       211\n",
      "          13       0.67      1.00      0.80       251\n",
      "\n",
      "    accuracy                           0.97      5814\n",
      "   macro avg       0.96      0.96      0.96      5814\n",
      "weighted avg       0.97      0.97      0.97      5814\n",
      "\n"
     ]
    }
   ],
   "source": [
    "import pandas as pd\n",
    "import seaborn as sns\n",
    "import matplotlib.pyplot as plt\n",
    "from sklearn.metrics import confusion_matrix, classification_report\n",
    "\n",
    "def print_confusion_matrix(y_true, y_pred, report=True):\n",
    "    labels = sorted(list(set(y_true)))\n",
    "    cmx_data = confusion_matrix(y_true, y_pred, labels=labels)\n",
    "    \n",
    "    df_cmx = pd.DataFrame(cmx_data, index=labels, columns=labels)\n",
    " \n",
    "    fig, ax = plt.subplots(figsize=(7, 6))\n",
    "    sns.heatmap(df_cmx, annot=True, fmt='g' ,square=False)\n",
    "    ax.set_ylim(len(set(y_true)), 0)\n",
    "    plt.show()\n",
    "    \n",
    "    if report:\n",
    "        print('Classification Report')\n",
    "        print(classification_report(y_test, y_pred))\n",
    "\n",
    "Y_pred = model.predict(X_test)\n",
    "y_pred = np.argmax(Y_pred, axis=1)\n",
    "\n",
    "print_confusion_matrix(y_test, y_pred)"
   ]
  },
  {
   "cell_type": "markdown",
   "metadata": {},
   "source": [
    "# Tensorflow-Lite用のモデルへ変換"
   ]
  },
  {
   "cell_type": "code",
   "execution_count": 16,
   "metadata": {},
   "outputs": [],
   "source": [
    "# 推論専用のモデルとして保存\n",
    "model.save(model_save_path, include_optimizer=False)"
   ]
  },
  {
   "cell_type": "code",
   "execution_count": 17,
   "metadata": {},
   "outputs": [
    {
     "name": "stdout",
     "output_type": "stream",
     "text": [
      "INFO:tensorflow:Assets written to: C:\\Users\\Othmane\\AppData\\Local\\Temp\\tmppid458wo\\assets\n"
     ]
    },
    {
     "data": {
      "text/plain": [
       "6928"
      ]
     },
     "execution_count": 17,
     "metadata": {},
     "output_type": "execute_result"
    }
   ],
   "source": [
    "# モデルを変換(量子化)\n",
    "tflite_save_path = 'model/keypoint_classifier/keypoint_classifier.tflite'\n",
    "\n",
    "converter = tf.lite.TFLiteConverter.from_keras_model(model)\n",
    "converter.optimizations = [tf.lite.Optimize.DEFAULT]\n",
    "tflite_quantized_model = converter.convert()\n",
    "\n",
    "open(tflite_save_path, 'wb').write(tflite_quantized_model)"
   ]
  },
  {
   "cell_type": "markdown",
   "metadata": {},
   "source": [
    "# 推論テスト"
   ]
  },
  {
   "cell_type": "code",
   "execution_count": 18,
   "metadata": {},
   "outputs": [],
   "source": [
    "interpreter = tf.lite.Interpreter(model_path=tflite_save_path)\n",
    "interpreter.allocate_tensors()"
   ]
  },
  {
   "cell_type": "code",
   "execution_count": 19,
   "metadata": {},
   "outputs": [],
   "source": [
    "# 入出力テンソルを取得\n",
    "input_details = interpreter.get_input_details()\n",
    "output_details = interpreter.get_output_details()"
   ]
  },
  {
   "cell_type": "code",
   "execution_count": 20,
   "metadata": {},
   "outputs": [],
   "source": [
    "interpreter.set_tensor(input_details[0]['index'], np.array([X_test[0]]))"
   ]
  },
  {
   "cell_type": "code",
   "execution_count": 21,
   "metadata": {
    "scrolled": true
   },
   "outputs": [
    {
     "name": "stdout",
     "output_type": "stream",
     "text": [
      "CPU times: total: 0 ns\n",
      "Wall time: 0 ns\n"
     ]
    }
   ],
   "source": [
    "%%time\n",
    "# 推論実施\n",
    "interpreter.invoke()\n",
    "tflite_results = interpreter.get_tensor(output_details[0]['index'])"
   ]
  },
  {
   "cell_type": "code",
   "execution_count": 22,
   "metadata": {},
   "outputs": [
    {
     "name": "stdout",
     "output_type": "stream",
     "text": [
      "[3.7112072e-02 5.6873791e-02 2.9552665e-03 1.3641667e-03 1.5875359e-01\n",
      " 3.2347620e-02 1.3248620e-04 2.2015427e-01 4.8144633e-01 2.7941032e-09\n",
      " 6.5967578e-07 2.2671793e-05 2.7160783e-09 8.8371001e-03]\n",
      "8\n"
     ]
    }
   ],
   "source": [
    "print(np.squeeze(tflite_results))\n",
    "print(np.argmax(np.squeeze(tflite_results)))"
   ]
  },
  {
   "cell_type": "code",
   "execution_count": null,
   "metadata": {
    "pycharm": {
     "name": "#%%\n"
    }
   },
   "outputs": [],
   "source": []
  },
  {
   "cell_type": "code",
   "execution_count": null,
   "metadata": {},
   "outputs": [],
   "source": []
  },
  {
   "cell_type": "code",
   "execution_count": null,
   "metadata": {},
   "outputs": [],
   "source": []
  },
  {
   "cell_type": "code",
   "execution_count": null,
   "metadata": {},
   "outputs": [],
   "source": []
  }
 ],
 "metadata": {
  "kernelspec": {
   "display_name": "Python 3 (ipykernel)",
   "language": "python",
   "name": "python3"
  },
  "language_info": {
   "codemirror_mode": {
    "name": "ipython",
    "version": 3
   },
   "file_extension": ".py",
   "mimetype": "text/x-python",
   "name": "python",
   "nbconvert_exporter": "python",
   "pygments_lexer": "ipython3",
   "version": "3.10.2"
  }
 },
 "nbformat": 4,
 "nbformat_minor": 4
}
